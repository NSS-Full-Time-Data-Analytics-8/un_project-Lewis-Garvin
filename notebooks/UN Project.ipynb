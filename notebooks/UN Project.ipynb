{
 "cells": [
  {
   "cell_type": "markdown",
   "id": "c77c5008",
   "metadata": {},
   "source": [
    "# UN Project - Lewis Garvin"
   ]
  },
  {
   "cell_type": "markdown",
   "id": "89d8c11e",
   "metadata": {},
   "source": [
    "1. Create 'data' folder. -- Done <br>\n",
    "2. Download two CSV files and place them in data folder. -- Done <br>\n",
    "  a & b  Rename them and review with text editor. -- Done <br>\n",
    "2. Launch a Jupyter Notebook -- Done"
   ]
  },
  {
   "cell_type": "markdown",
   "id": "1a8ecba1",
   "metadata": {},
   "source": [
    "#### 3. Import the required packages with their customary aliases as follows:"
   ]
  },
  {
   "cell_type": "code",
   "execution_count": null,
   "id": "ba35330b",
   "metadata": {},
   "outputs": [],
   "source": [
    "import pandas as pd\n",
    "import numpy as np\n",
    "import matplotlib.pyplot as plt\n",
    "import seaborn as sns"
   ]
  },
  {
   "cell_type": "markdown",
   "id": "f4fb0de7",
   "metadata": {},
   "source": [
    "#### 4. Use the `%matplotlib inline` magic command so that your plots show in the notebook _without_ having to call `plt.show()` every time."
   ]
  },
  {
   "cell_type": "code",
   "execution_count": null,
   "id": "c5d4df11",
   "metadata": {},
   "outputs": [],
   "source": [
    "%matplotlib inline"
   ]
  },
  {
   "cell_type": "markdown",
   "id": "a4e136db",
   "metadata": {},
   "source": [
    "#### 5. Using the pandas `read_csv()` method, read the GDP dataset into your notebook as a DataFrame called `gdp_df`. Take a look at the first 6 rows."
   ]
  },
  {
   "cell_type": "code",
   "execution_count": null,
   "id": "031f92ad",
   "metadata": {},
   "outputs": [],
   "source": [
    "gdp_df = pd.read_csv(\"../data/gdp_percapita.csv\")\n",
    "gdp_df.head(6)"
   ]
  },
  {
   "cell_type": "markdown",
   "id": "60f1e2d5",
   "metadata": {},
   "source": [
    "#### 6. Repeat for the internet use dataset. Call this DataFrame `internet_df`. Take a look at the first six rows."
   ]
  },
  {
   "cell_type": "code",
   "execution_count": null,
   "id": "196a6abd",
   "metadata": {
    "scrolled": true
   },
   "outputs": [],
   "source": [
    "# nrows argument used to include only data rows and exclude the extra footnote lines at the bottom of the csv file.\n",
    "internet_df = pd.read_csv(\"../data/internet_use.csv\", \n",
    "                          nrows = 4495)\n",
    "internet_df.head(6)"
   ]
  },
  {
   "cell_type": "markdown",
   "id": "65d662d7",
   "metadata": {},
   "source": [
    "#### 98. Look at the shape of each DataFrame - how many rows? How many columns?"
   ]
  },
  {
   "cell_type": "code",
   "execution_count": null,
   "id": "98f399ce",
   "metadata": {
    "scrolled": false
   },
   "outputs": [],
   "source": [
    "print(\"gdp_df # of rows = \",list(gdp_df.shape).pop(0))\n",
    "print(\"gdp_df # of columns = \",list(gdp_df.shape).pop(1))\n",
    "\n",
    "print(\"internet_df # of rows = \",list(internet_df.shape).pop(0))\n",
    "print(\"internet_df # of columns = \",list(internet_df.shape).pop(1))"
   ]
  },
  {
   "cell_type": "markdown",
   "id": "5b79c53e",
   "metadata": {},
   "source": [
    "#### 6. Take a look at the datatypes for the columns in each DataFrame."
   ]
  },
  {
   "cell_type": "code",
   "execution_count": null,
   "id": "9bdd22ca",
   "metadata": {},
   "outputs": [],
   "source": [
    "gdp_df.dtypes"
   ]
  },
  {
   "cell_type": "code",
   "execution_count": null,
   "id": "bba90c34",
   "metadata": {},
   "outputs": [],
   "source": [
    "internet_df.dtypes"
   ]
  },
  {
   "cell_type": "markdown",
   "id": "9dd62309",
   "metadata": {},
   "source": [
    "#### 99. Take a look at the last 10 rows of each DataFrame in turn."
   ]
  },
  {
   "cell_type": "code",
   "execution_count": null,
   "id": "8edbb74e",
   "metadata": {},
   "outputs": [],
   "source": [
    "gdp_df.tail(10)"
   ]
  },
  {
   "cell_type": "code",
   "execution_count": null,
   "id": "62ebd2bf",
   "metadata": {},
   "outputs": [],
   "source": [
    "internet_df.tail(10)"
   ]
  },
  {
   "cell_type": "markdown",
   "id": "994d330c",
   "metadata": {},
   "source": [
    "#### 7. Drop the `value footnotes` column from both DataFrames. Check that this worked as expected."
   ]
  },
  {
   "cell_type": "code",
   "execution_count": null,
   "id": "24241731",
   "metadata": {
    "scrolled": true
   },
   "outputs": [],
   "source": [
    "gdp_df = gdp_df.drop(columns = ['Value Footnotes'])\n",
    "gdp_df.head()"
   ]
  },
  {
   "cell_type": "code",
   "execution_count": null,
   "id": "f72ac94b",
   "metadata": {},
   "outputs": [],
   "source": [
    "internet_df = internet_df.drop(columns = ['Value Footnotes'])\n",
    "internet_df.head()"
   ]
  },
  {
   "cell_type": "markdown",
   "id": "07ab418e",
   "metadata": {},
   "source": [
    "#### 8. Change the columns for the GDP Per Capita DataFrame to ‘Country’, ‘Year’, and ‘GDP_Per_Capita’ "
   ]
  },
  {
   "cell_type": "code",
   "execution_count": null,
   "id": "19291ac3",
   "metadata": {},
   "outputs": [],
   "source": [
    "gdp_df = gdp_df.rename(columns = {'Country or Area': 'Country',\n",
    "                                  'Value': 'GDP_Per_Capita'})\n",
    "gdp_df.head()"
   ]
  },
  {
   "cell_type": "markdown",
   "id": "6736d63f",
   "metadata": {},
   "source": [
    "#### 9. Change the columns for the Internet Users DataFrame to ‘Country’, ‘Year’, and ‘Internet_Users_Pct’."
   ]
  },
  {
   "cell_type": "code",
   "execution_count": null,
   "id": "96323491",
   "metadata": {},
   "outputs": [],
   "source": [
    "internet_df = internet_df.rename(columns = {'Country or Area': 'Country',\n",
    "                                            'Value': 'Internet_Users_Pct'})\n",
    "internet_df.head()"
   ]
  },
  {
   "cell_type": "markdown",
   "id": "9261eacf",
   "metadata": {},
   "source": [
    "#### 10. Merge the two DataFrames to one. Merge **all rows** from each of the two DataFrames. Call the new DataFrame `gdp_and_internet_use`."
   ]
  },
  {
   "cell_type": "code",
   "execution_count": null,
   "id": "72b98322",
   "metadata": {},
   "outputs": [],
   "source": [
    "gdp_and_internet_use = pd.merge(gdp_df, internet_df, on = ['Country', 'Year'], how = 'outer')"
   ]
  },
  {
   "cell_type": "markdown",
   "id": "2a7f130b",
   "metadata": {},
   "source": [
    "#### 11. Look at the first five rows of your new DataFrame to confirm it merged correctly."
   ]
  },
  {
   "cell_type": "code",
   "execution_count": null,
   "id": "ad3c2b57",
   "metadata": {},
   "outputs": [],
   "source": [
    "gdp_and_internet_use.head()"
   ]
  },
  {
   "cell_type": "markdown",
   "id": "d52c0b6f",
   "metadata": {},
   "source": [
    "#### 12. Look at the last five rows to make sure the data is clean and as expected."
   ]
  },
  {
   "cell_type": "code",
   "execution_count": null,
   "id": "9e3160b3",
   "metadata": {},
   "outputs": [],
   "source": [
    "gdp_and_internet_use.tail()"
   ]
  },
  {
   "cell_type": "markdown",
   "id": "e10b07ef",
   "metadata": {},
   "source": [
    "#### 13. Subset the combined DataFrame to keep only the data for 2004, 2009, and 2014. Check that this happened correctly."
   ]
  },
  {
   "cell_type": "code",
   "execution_count": null,
   "id": "30a53346",
   "metadata": {
    "scrolled": true
   },
   "outputs": [],
   "source": [
    "df_subset_3_years = gdp_and_internet_use.loc[gdp_and_internet_use[\"Year\"].isin([2004, 2009, 2014])]\n",
    "df_subset_3_years.Year.value_counts()"
   ]
  },
  {
   "cell_type": "markdown",
   "id": "f052cbe4",
   "metadata": {},
   "source": [
    "#### 14. Create three new DataFrames, one for 2004, one for 2009, and one for 2014. Give them meaningful names that aren't too long."
   ]
  },
  {
   "cell_type": "code",
   "execution_count": null,
   "id": "e1dc491b",
   "metadata": {},
   "outputs": [],
   "source": [
    "gdp_and_int_2004_df = gdp_and_internet_use.loc[gdp_and_internet_use[\"Year\"] == 2004]\n",
    "gdp_and_int_2009_df = gdp_and_internet_use.loc[gdp_and_internet_use[\"Year\"] == 2009]\n",
    "gdp_and_int_2014_df = gdp_and_internet_use.loc[gdp_and_internet_use[\"Year\"] == 2014]\n",
    "\n",
    "print(\"gdp_and_int_2004_df: \",gdp_and_int_2004_df.Year.value_counts())\n",
    "print(\"gdp_and_int_2009_df: \",gdp_and_int_2009_df.Year.value_counts())\n",
    "print(\"gdp_and_int_2014_df: \",gdp_and_int_2014_df.Year.value_counts())"
   ]
  },
  {
   "cell_type": "markdown",
   "id": "0fdbc0fe",
   "metadata": {},
   "source": [
    "#### 15. Which country had the highest percentage of internet users in 2014? What was the percentage? (Try typing the first 3 letters of your DataFrame name and hitting the tab key for auto-complete options)."
   ]
  },
  {
   "cell_type": "code",
   "execution_count": null,
   "id": "1d6baa01",
   "metadata": {
    "scrolled": true
   },
   "outputs": [],
   "source": [
    "top_internet_2014 = gdp_and_int_2014_df.loc[gdp_and_int_2014_df.Internet_Users_Pct \n",
    "                                            == gdp_and_int_2014_df.Internet_Users_Pct.max()]\n",
    "print('Highest percentage of internet users in 2014: ',\n",
    "      top_internet_2014.Country.iat[0], ' ',\n",
    "      top_internet_2014.Internet_Users_Pct.iat[0], '%')"
   ]
  },
  {
   "cell_type": "markdown",
   "id": "9b6b8af0",
   "metadata": {},
   "source": [
    "#### 16. Which country had the lowest percentage of internet users in 2014? What was the percentage?"
   ]
  },
  {
   "cell_type": "code",
   "execution_count": null,
   "id": "37646bbe",
   "metadata": {},
   "outputs": [],
   "source": [
    "bottom_internet_2014 = gdp_and_int_2014_df.loc[gdp_and_int_2014_df.Internet_Users_Pct \n",
    "                                               == gdp_and_int_2014_df.Internet_Users_Pct.min()]\n",
    "print('Lowest percentage of internet users in 2014: ',\n",
    "      bottom_internet_2014.Country.iat[0], ' ',\n",
    "      bottom_internet_2014.Internet_Users_Pct.iat[0], '%')"
   ]
  },
  {
   "cell_type": "markdown",
   "id": "84eef502",
   "metadata": {},
   "source": [
    "#### 17. Repeat for 2004 and 2009."
   ]
  },
  {
   "cell_type": "code",
   "execution_count": null,
   "id": "8fa8d5f2",
   "metadata": {},
   "outputs": [],
   "source": [
    "top_internet_2004 = gdp_and_int_2004_df.loc[gdp_and_int_2004_df.Internet_Users_Pct \n",
    "                                            == gdp_and_int_2004_df.Internet_Users_Pct.max()]\n",
    "print(\"Highest percentage of internet users in 2004: \", \n",
    "      top_internet_2004.Country.iat[0], \" \", \n",
    "      top_internet_2004.Internet_Users_Pct.iat[0], \"%\")\n",
    "print(\" \")\n",
    "\n",
    "bottom_internet_2004 = gdp_and_int_2004_df.loc[gdp_and_int_2004_df.Internet_Users_Pct \n",
    "                                               == gdp_and_int_2004_df.Internet_Users_Pct.min()]\n",
    "print(\"Lowest percentage of internet users in 2004: \", \n",
    "      bottom_internet_2004.Country.iat[0], \" \", \n",
    "      bottom_internet_2004.Internet_Users_Pct.iat[0], \"%\")\n",
    "print(\" \")\n",
    "\n",
    "top_internet_2009 = gdp_and_int_2009_df.loc[gdp_and_int_2009_df.Internet_Users_Pct \n",
    "                                            == gdp_and_int_2009_df.Internet_Users_Pct.max()]\n",
    "print(\"Highest percentage of internet users in 2009: \", \n",
    "      top_internet_2009.Country.iat[0], \" \", \n",
    "      top_internet_2009.Internet_Users_Pct.iat[0], \"%\")\n",
    "print(\" \")\n",
    "\n",
    "bottom_internet_2009 = gdp_and_int_2009_df.loc[gdp_and_int_2009_df.Internet_Users_Pct \n",
    "                                            == gdp_and_int_2009_df.Internet_Users_Pct.min()]\n",
    "print(\"Lowest percentage of internet users in 2009: \", \n",
    "      bottom_internet_2009.Country.iat[0], \" \", \n",
    "      bottom_internet_2009.Internet_Users_Pct.iat[0], \"%\")"
   ]
  },
  {
   "cell_type": "markdown",
   "id": "05c9e3bf",
   "metadata": {},
   "source": [
    "#### 18. Which country had the highest gdp per capita in 2014? What was the gdp per capita?"
   ]
  },
  {
   "cell_type": "code",
   "execution_count": null,
   "id": "4ebb07a3",
   "metadata": {},
   "outputs": [],
   "source": [
    "top_gdp_2014 = gdp_and_int_2014_df.loc[gdp_and_int_2014_df.GDP_Per_Capita == gdp_and_int_2014_df.GDP_Per_Capita.max()]\n",
    "print(\"Highest GDP per capita in 2014: \", \n",
    "      top_gdp_2014.Country.iat[0], \" \", \n",
    "      round(top_gdp_2014.GDP_Per_Capita.iat[0], 2))"
   ]
  },
  {
   "cell_type": "markdown",
   "id": "b4c1b61c",
   "metadata": {},
   "source": [
    "#### 19. [There is no question #19.]"
   ]
  },
  {
   "cell_type": "markdown",
   "id": "204c51ec",
   "metadata": {},
   "source": [
    "#### 20. Which country had the lowest gdp per capita in 2014? What was the gdp per capita?"
   ]
  },
  {
   "cell_type": "code",
   "execution_count": null,
   "id": "870e89b9",
   "metadata": {},
   "outputs": [],
   "source": [
    "bottom_gdp_2014 = gdp_and_int_2014_df.loc[gdp_and_int_2014_df.GDP_Per_Capita == gdp_and_int_2014_df.GDP_Per_Capita.min()]\n",
    "print(\"Lowest GDP per capita in 2014: \", \n",
    "      bottom_gdp_2014.Country.iat[0], \" \", \n",
    "      round(bottom_gdp_2014.GDP_Per_Capita.iat[0], 2))"
   ]
  },
  {
   "cell_type": "markdown",
   "id": "aac8e2a3",
   "metadata": {},
   "source": [
    "#### 21. Create some scatterplots:  \n",
    "#### a. 2004 Percent Using the Internet vs GDP Per Capita  "
   ]
  },
  {
   "cell_type": "code",
   "execution_count": null,
   "id": "492b47b7",
   "metadata": {},
   "outputs": [],
   "source": [
    "plt.scatter(gdp_and_int_2004_df.Internet_Users_Pct, gdp_and_int_2004_df.GDP_Per_Capita)\n",
    "plt.title(\"2004 Internet Use vs GDP\")\n",
    "plt.xlabel(\"Internet Users Percentage\")\n",
    "plt.ylabel(\"GDP Per Capital\")"
   ]
  },
  {
   "cell_type": "markdown",
   "id": "b810650a",
   "metadata": {},
   "source": [
    "#### b. 2009 Percent Using the Internet vs GDP Per Capita  "
   ]
  },
  {
   "cell_type": "code",
   "execution_count": null,
   "id": "b65e9c64",
   "metadata": {},
   "outputs": [],
   "source": [
    "plt.scatter(gdp_and_int_2009_df.Internet_Users_Pct, gdp_and_int_2009_df.GDP_Per_Capita)\n",
    "plt.title(\"2009 Internet Use vs GDP\")\n",
    "plt.xlabel(\"Internet Users Percentage\")\n",
    "plt.ylabel(\"GDP Per Capital\")"
   ]
  },
  {
   "cell_type": "markdown",
   "id": "dc6eee8c",
   "metadata": {},
   "source": [
    "#### c. 2014 Percent Using the Internet vs GDP Per Capita  "
   ]
  },
  {
   "cell_type": "code",
   "execution_count": null,
   "id": "051c7603",
   "metadata": {},
   "outputs": [],
   "source": [
    "plt.scatter(gdp_and_int_2014_df.Internet_Users_Pct, gdp_and_int_2014_df.GDP_Per_Capita)\n",
    "plt.title(\"2014 Internet Use vs GDP\")\n",
    "plt.xlabel(\"Internet Users Percentage\")\n",
    "plt.ylabel(\"GDP Per Capital\")"
   ]
  },
  {
   "cell_type": "markdown",
   "id": "eb2ae243",
   "metadata": {},
   "source": [
    "#### 22. Are there differences across years? What do the plots tell you about any relationship between these two variables? Enter your observations as a markdown cell."
   ]
  },
  {
   "cell_type": "code",
   "execution_count": null,
   "id": "83fb0a43",
   "metadata": {},
   "outputs": [],
   "source": [
    "print(\"Internet Use vs GDP\")\n",
    "int_vs_gdp_fg = sns.FacetGrid(df_subset_3_years,col=\"Year\")\n",
    "int_vs_gdp_plot = int_vs_gdp_fg.map_dataframe(sns.scatterplot,y=\"GDP_Per_Capita\",x=\"Internet_Users_Pct\")\n",
    "int_vs_gdp_plot.set_xlabels('Internet Users %')\n",
    "int_vs_gdp_plot.set_ylabels('GDP Per Capita')"
   ]
  },
  {
   "cell_type": "markdown",
   "id": "6266c9cd",
   "metadata": {},
   "source": [
    "The correlation of GDP per Capita with internet users percentage increased from 2004 to 2009 to 2014. During this period the internet became increasingly important as a driver of economic development."
   ]
  },
  {
   "cell_type": "markdown",
   "id": "a01c10ac",
   "metadata": {},
   "source": [
    "#### 23. Look at the distribution of gdp per capita values for 2014. Is it unimodal?"
   ]
  },
  {
   "cell_type": "code",
   "execution_count": null,
   "id": "48f04926",
   "metadata": {},
   "outputs": [],
   "source": [
    "plt.hist(gdp_and_int_2014_df.GDP_Per_Capita)\n",
    "plt.title(\"2014 GDP Per Capita Histogram\")\n",
    "plt.xlabel(\"GDP Per Capita\")"
   ]
  },
  {
   "cell_type": "markdown",
   "id": "93c50ee2",
   "metadata": {},
   "source": [
    "Yes, GDP per capita values for 2014 are unimodal.\n",
    "\n",
    "**Next Step:** Adjust the number and size of bins to further validate observations."
   ]
  },
  {
   "cell_type": "markdown",
   "id": "d4c986a0",
   "metadata": {},
   "source": [
    "#### 24. Look at the distribution of Internet Use for 2014. Is it unimodal?"
   ]
  },
  {
   "cell_type": "code",
   "execution_count": null,
   "id": "349f2dad",
   "metadata": {},
   "outputs": [],
   "source": [
    "plt.hist(gdp_and_int_2014_df.Internet_Users_Pct)\n",
    "plt.title(\"2014 Internet Use Histogram\")\n",
    "plt.xlabel(\"Internet Users Percentage\")"
   ]
  },
  {
   "cell_type": "markdown",
   "id": "75d97cbf",
   "metadata": {},
   "source": [
    "No, internet users percentage values for 2014 are not unimodal.\n",
    "\n",
    "**Next Step:** Adjust the number and size of bins to further validate observations."
   ]
  },
  {
   "cell_type": "markdown",
   "id": "51bf667e",
   "metadata": {},
   "source": [
    "#### 25. What are the top 5 countries in terms of internet use in 2014?"
   ]
  },
  {
   "cell_type": "code",
   "execution_count": null,
   "id": "35a756d0",
   "metadata": {},
   "outputs": [],
   "source": [
    "top_5_internet_2014 = gdp_and_int_2014_df.sort_values(by = 'Internet_Users_Pct', ascending = False).head(5)\n",
    "top_5_internet_2014_2_col = top_5_internet_2014[['Country', 'Internet_Users_Pct']]\n",
    "top_5_internet_2014_print = top_5_internet_2014_2_col.rename(columns = {'Internet_Users_Pct':'Internet Users %'})\n",
    "\n",
    "from IPython.display import HTML\n",
    "HTML(top_5_internet_2014_print.to_html(index=False))"
   ]
  },
  {
   "cell_type": "markdown",
   "id": "fc57008b",
   "metadata": {},
   "source": [
    "#### 26. Create a DataFrame called top_5_internet **from the combined DataFrame that has all three years _for the 5 countries that had the greatest 2014 internet usage_**.  You should have 15 rows. Check that this is true."
   ]
  },
  {
   "cell_type": "code",
   "execution_count": null,
   "id": "11ce9ae5",
   "metadata": {},
   "outputs": [],
   "source": [
    "top_5_internet = df_subset_3_years.loc[df_subset_3_years.Country.isin(list(top_5_internet_2014.Country))]\n",
    "print(\"DataFrame top_5_internet has \", list(top_5_internet.shape)[0], \" rows.\")\n",
    "top_5_internet"
   ]
  },
  {
   "cell_type": "markdown",
   "id": "c0940945",
   "metadata": {},
   "source": [
    "#### 27. Create a seaborn FacetGrid to show the internet usage trend across the years 2004, 2009, and 2014 for these 5 countries (those with the highest reported internet use in 2014). Which country had the greatest growth between 2004 and 2014?"
   ]
  },
  {
   "cell_type": "code",
   "execution_count": null,
   "id": "e3cc0a17",
   "metadata": {
    "scrolled": true
   },
   "outputs": [],
   "source": [
    "print(\"Top 5 Internet Countries\")\n",
    "top_5_internet_fg = sns.FacetGrid(top_5_internet,col=\"Country\")\n",
    "top_5_internet_plot = top_5_internet_fg.map_dataframe(sns.barplot,x=\"Year\",y=\"Internet_Users_Pct\")\n",
    "top_5_internet_plot.set_ylabels('Internet Users %')"
   ]
  },
  {
   "cell_type": "markdown",
   "id": "83c81b29",
   "metadata": {},
   "source": [
    "Andorra had the greatest growth between 2004 and 2014."
   ]
  },
  {
   "cell_type": "markdown",
   "id": "d4977f80",
   "metadata": {},
   "source": [
    "#### 28. Repeat the steps above to look at the trend for the 5 countries with the lowest 2014 internet usage. Which country has consistently had the least internet use?"
   ]
  },
  {
   "cell_type": "code",
   "execution_count": null,
   "id": "5af847cd",
   "metadata": {},
   "outputs": [],
   "source": [
    "bottom_5_internet_2014 = gdp_and_int_2014_df.sort_values(by = 'Internet_Users_Pct', ascending = True).head(5)\n",
    "bottom_5_internet = df_subset_3_years.loc[df_subset_3_years.Country.isin(list(bottom_5_internet_2014.Country))]\n",
    "bottom_5_internet"
   ]
  },
  {
   "cell_type": "code",
   "execution_count": null,
   "id": "21b63da4",
   "metadata": {},
   "outputs": [],
   "source": [
    "# Eritrea does not have a record for 2004. This causes the bar plots to exclude 2004 for all of the bottom 5 countries.\n",
    "# The graph type could be changed to a line or scatter plot, which do not have this problem.\n",
    "# I still wanted to use a bar plot, however, so I added a new record for Eritrea in 2004.\n",
    "\n",
    "Eritrea_2004 = {'Country': ['Eritrea'], 'Year': [2004]} \n",
    "Eritrea_2004_df = pd.DataFrame(Eritrea_2004)\n",
    "\n",
    "bottom_5_internet = pd.concat([bottom_5_internet,Eritrea_2004_df])\n",
    "bottom_5_internet"
   ]
  },
  {
   "cell_type": "code",
   "execution_count": null,
   "id": "dfe897eb",
   "metadata": {
    "scrolled": false
   },
   "outputs": [],
   "source": [
    "print(\"Bottom 5 Internet Countries\")\n",
    "bottom_5_internet_fg = sns.FacetGrid(bottom_5_internet,col=\"Country\")\n",
    "bottom_5_internet_plot = bottom_5_internet_fg.map_dataframe(sns.barplot,x=\"Year\",y=\"Internet_Users_Pct\")\n",
    "bottom_5_internet_plot.set_ylabels('Internet Users %')"
   ]
  },
  {
   "cell_type": "markdown",
   "id": "a5321856",
   "metadata": {},
   "source": [
    "The Democratic People's Republic of Korea has consistently had the least internet use. Literally zero."
   ]
  },
  {
   "cell_type": "markdown",
   "id": "00186053",
   "metadata": {},
   "source": [
    "#### 29. Find the top 5 countries for 2014 in terms of GDP per capita; create a DataFrame to look at 10-year trends (use 2004, 2009, 2014 to look at the 10-year trend) in gdp per capita for the 5 countries with the highest 2014 GDP per capita. Use a seaborn facet grid for this."
   ]
  },
  {
   "cell_type": "code",
   "execution_count": null,
   "id": "b849fbf5",
   "metadata": {},
   "outputs": [],
   "source": [
    "top_5_gdp_2014 = gdp_and_int_2014_df.sort_values(by = 'GDP_Per_Capita', ascending = False).head(5)\n",
    "top_5_gdp = df_subset_3_years.loc[df_subset_3_years.Country.isin(list(top_5_gdp_2014.Country))]\n",
    "top_5_gdp"
   ]
  },
  {
   "cell_type": "code",
   "execution_count": null,
   "id": "bedad98a",
   "metadata": {},
   "outputs": [],
   "source": [
    "print(\"Top 5 GDP Countries\")\n",
    "top_5_gdp_fg = sns.FacetGrid(top_5_gdp,col=\"Country\")\n",
    "top_5_gdp_plot = top_5_gdp_fg.map_dataframe(sns.barplot,x=\"Year\",y=\"GDP_Per_Capita\")\n",
    "top_5_gdp_plot.set_ylabels('GDP Per Capita')"
   ]
  },
  {
   "cell_type": "markdown",
   "id": "cdddc40d",
   "metadata": {},
   "source": [
    "#### 96. Repeat this one more time to look at 10-year trend for the 5 countries for 2014 with the lowest GDP per capita."
   ]
  },
  {
   "cell_type": "code",
   "execution_count": null,
   "id": "8406f88c",
   "metadata": {},
   "outputs": [],
   "source": [
    "bottom_5_gdp_2014 = gdp_and_int_2014_df.sort_values(by = 'GDP_Per_Capita', ascending = True).head(5)\n",
    "bottom_5_gdp = df_subset_3_years.loc[df_subset_3_years.Country.isin(list(bottom_5_gdp_2014.Country))]\n",
    "bottom_5_gdp"
   ]
  },
  {
   "cell_type": "code",
   "execution_count": null,
   "id": "f0939c2c",
   "metadata": {
    "scrolled": true
   },
   "outputs": [],
   "source": [
    "print(\"Bottom 5 GDP Countries\")\n",
    "bottom_5_gdp_fg = sns.FacetGrid(bottom_5_gdp,col=\"Country\")\n",
    "bottom_5_gdp_plot = bottom_5_gdp_fg.map_dataframe(sns.barplot,x=\"Year\",y=\"GDP_Per_Capita\")\n",
    "bottom_5_gdp_plot.set_ylabels('GDP Per Capita')"
   ]
  },
  {
   "cell_type": "markdown",
   "id": "71bff653",
   "metadata": {},
   "source": [
    "#### 30. Is there anything surprising or unusual in any of these plots? Searching on the internet, can you find any possible explanations for unusual findings?"
   ]
  },
  {
   "cell_type": "markdown",
   "id": "dad105eb",
   "metadata": {},
   "source": [
    "- **Andorra:** Internet use in Andorra has grown from 27% to 96% in just ten years. Andorra Telecom is the national telephone company and only internet service provider in Andorra. In 2012 they finished building an optical fiber internet network available to the entire country.\n",
    "- **Macao SAR, China:** The GDP per capita of Macao SAR, has more than doubled from 2004 to 2014. Macau is a city which is a special administrative region in China with a capitalist service economy based on casino gambling and tourism. Gambling is illegal everywhere else in China, effectively giving Macao a monopoly. This monopoly, combined with an easing of travel restrictions for mainland China visitors, led to the rapid growth of Macao's casino gambling industry, which peaked at 60% of Macao's GDP in 2013. \n",
    "- **Dem. People's Rep. of Korea (North Korea):** South Korea has no GDP Per Capita values for any year in the data, and it has an internet users percentage of zero for every year. The U.N. does not report GDP for North Korea because the nation does not publish reliable gross domestic product data. North Korea's purchasing power parity (PPP) GDP per capita was estimated to be $1800 in 2011 in the CIA World Factbook. Internet access is not allowed for the vast majority of people in North Korea, so the internet users percentage of zero may actually be a reasonable rough estimate. It is not known how many elite users are granted internet access. North Korea is an outlier with completely unreliable and/or unavailable data, so it could be excluded from analysis when looking at relationships and trends within this dataset.\n",
    "- **Somalia:** Somalia only has GDP per capita data starting in 2013 and internet users percentage data for years before 2015. Somalia has been highly unstable, with a new federal government forming in 2012, so it is not surprising to find disruptions in the UN's data for Somalia.\n",
    "- **Central African Republic:** The sharp fall in Central African Republic's GDP per capita from 2009 to 2014 is likely due to civil war starting again in 2012.\n",
    "- **Eritrea:** Eritrea is missing records for years between 2003 and 2006. I have not found an obvious cause for this.\n",
    "- **Timor-Leste (East Timor):** East Timor does not have a value for internet users percentage in 2004, but this is not surprising given that most sources seem to agree that the country had virtually no internet users until 2005. Most sources seem to agree that East Timor had virtually no The data for internet users percentage for East Timor. Other sources, such as the World Bank, show an internet users percentage of 18% in 2014, which is much higher than the 1% in the UN data. Also, the UN data has no internet user data for years after 2014. Therefore, it is not clear that the UN data for East Timor's internet users percentage is reliable."
   ]
  },
  {
   "cell_type": "markdown",
   "id": "4ad3c8ad",
   "metadata": {},
   "source": [
    "## Bonus exercise:"
   ]
  },
  {
   "cell_type": "markdown",
   "id": "9297226d",
   "metadata": {},
   "source": [
    "1. Download another data set from the UN data (http://data.un.org/Explorer.aspx) to merge with your data and explore."
   ]
  },
  {
   "cell_type": "markdown",
   "id": "a0f430ab",
   "metadata": {},
   "source": [
    "Data set: Income share held by highest 10% <br>\n",
    "Source: World Development Indicators from The World Bank <br>\n",
    "http://data.un.org/Data.aspx?d=WDI&f=Indicator_Code%3aSI.DST.10TH.10"
   ]
  },
  {
   "cell_type": "markdown",
   "id": "22e5eab2",
   "metadata": {},
   "source": [
    "#### Wealthy Income Share\n",
    "In this analysis, \"Wealthy Income Share\" will be used as an alternative name for the measure included in this data set, \"Income share held by highest 10%\". Both terms will mean the percentage of a country's total income held by individuals in the top 10% based on income. \n",
    "\n",
    "**Note:** This name/label would need to be changed if additional data sets such as \"Income share held by highest 20%\" were added to the analysis."
   ]
  },
  {
   "cell_type": "code",
   "execution_count": null,
   "id": "31250e3e",
   "metadata": {
    "scrolled": true
   },
   "outputs": [],
   "source": [
    "# nrows argument used to include only data rows and exclude the extra footnote lines at the bottom of the csv file.\n",
    "\n",
    "wealthy_income_share_df = pd.read_csv(\"../data/income_share_highest_10pct.csv\", nrows = 1834)\n",
    "\n",
    "# Validate result\n",
    "wealthy_income_share_df.tail(6)"
   ]
  },
  {
   "cell_type": "code",
   "execution_count": null,
   "id": "58ad47f5",
   "metadata": {},
   "outputs": [],
   "source": [
    "# Validate result\n",
    "wealthy_income_share_df.tail(6)"
   ]
  },
  {
   "cell_type": "code",
   "execution_count": null,
   "id": "bb1fcbd8",
   "metadata": {},
   "outputs": [],
   "source": [
    "#Drop the Value Footnotes column\n",
    "wealthy_income_share_df = wealthy_income_share_df.drop(columns = ['Value Footnotes'])\n",
    "wealthy_income_share_df.head()"
   ]
  },
  {
   "cell_type": "code",
   "execution_count": null,
   "id": "72b3a4e9",
   "metadata": {},
   "outputs": [],
   "source": [
    "#Rename columns\n",
    "wealthy_income_share_df = wealthy_income_share_df.rename(columns = {'Country or Area': 'Country', \n",
    "                                                                    'Value': 'Wealthy_Income_Share'})\n",
    "#Validate results\n",
    "print(wealthy_income_share_df.info())\n",
    "wealthy_income_share_df.head()"
   ]
  },
  {
   "cell_type": "code",
   "execution_count": null,
   "id": "78ba6978",
   "metadata": {},
   "outputs": [],
   "source": [
    "#Merge with rest\n",
    "gdp_int_incshare_df = pd.merge(gdp_and_internet_use, wealthy_income_share_df, on = ['Country', 'Year'], how = 'outer')"
   ]
  },
  {
   "cell_type": "code",
   "execution_count": null,
   "id": "c38c93d9",
   "metadata": {},
   "outputs": [],
   "source": [
    "# Validate merge result\n",
    "gdp_int_incshare_df.info()"
   ]
  },
  {
   "cell_type": "code",
   "execution_count": null,
   "id": "36a156ac",
   "metadata": {},
   "outputs": [],
   "source": [
    "# Validate merge result\n",
    "gdp_int_incshare_df"
   ]
  },
  {
   "cell_type": "code",
   "execution_count": null,
   "id": "f6e4c663",
   "metadata": {},
   "outputs": [],
   "source": [
    "#Subset the combined DataFrame to keep only the data for 2004, 2009, and 2014. Check that this happened correctly.\n",
    "df_3var_subset_3_years = gdp_int_incshare_df.loc[gdp_int_incshare_df[\"Year\"].isin([2004, 2009, 2014])]\n",
    "df_3var_subset_3_years.Year.value_counts()"
   ]
  },
  {
   "cell_type": "code",
   "execution_count": null,
   "id": "863c8705",
   "metadata": {},
   "outputs": [],
   "source": [
    "#Create three new DataFrames, one for 2004, one for 2009, and one for 2014. \n",
    "gdp_int_incshare_2004_df = gdp_int_incshare_df.loc[gdp_int_incshare_df[\"Year\"] == 2004]\n",
    "gdp_int_incshare_2009_df = gdp_int_incshare_df.loc[gdp_int_incshare_df[\"Year\"] == 2009]\n",
    "gdp_int_incshare_2014_df = gdp_int_incshare_df.loc[gdp_int_incshare_df[\"Year\"] == 2014]\n",
    "\n",
    "print(\"gdp_int_incshare_2004_df: \",gdp_int_incshare_2004_df.Year.value_counts())\n",
    "print(\"gdp_int_incshare_2009_df: \",gdp_int_incshare_2009_df.Year.value_counts())\n",
    "print(\"gdp_int_incshare_2014_df: \",gdp_int_incshare_2014_df.Year.value_counts())"
   ]
  },
  {
   "cell_type": "code",
   "execution_count": null,
   "id": "673d0308",
   "metadata": {},
   "outputs": [],
   "source": [
    "#Country with highest wealthy income share in 2014\n",
    "top_inc_share_2014 = gdp_int_incshare_2014_df.loc[gdp_int_incshare_2014_df.Wealthy_Income_Share \n",
    "                                                  == gdp_int_incshare_2014_df.Wealthy_Income_Share.max()]\n",
    "print('Highest wealthy income share in 2014: ',\n",
    "      top_inc_share_2014.Country.iat[0], ' ',\n",
    "      top_inc_share_2014.Wealthy_Income_Share.iat[0], '%')\n",
    "\n",
    "#Country with lowest wealthy income share in 2014\n",
    "bottom_inc_share_2014 = gdp_int_incshare_2014_df.loc[gdp_int_incshare_2014_df.Wealthy_Income_Share \n",
    "                                                     == gdp_int_incshare_2014_df.Wealthy_Income_Share.min()]\n",
    "print('Lowest wealthy income share in 2014: ',\n",
    "      bottom_inc_share_2014.Country.iat[0], ' ',\n",
    "      bottom_inc_share_2014.Wealthy_Income_Share.iat[0], '%')\n",
    "print(\"\")\n",
    "# -------------------------------------------\n",
    "#Country with highest wealthy income share in 2009\n",
    "top_inc_share_2009 = gdp_int_incshare_2009_df.loc[gdp_int_incshare_2009_df.Wealthy_Income_Share \n",
    "                                                  == gdp_int_incshare_2009_df.Wealthy_Income_Share.max()]\n",
    "print('Highest wealthy income share in 2009: ',\n",
    "      top_inc_share_2009.Country.iat[0], ' ',\n",
    "      top_inc_share_2009.Wealthy_Income_Share.iat[0], '%')\n",
    "\n",
    "#Country with lowest wealthy income share in 2009\n",
    "bottom_inc_share_2009 = gdp_int_incshare_2009_df.loc[gdp_int_incshare_2009_df.Wealthy_Income_Share \n",
    "                                                     == gdp_int_incshare_2009_df.Wealthy_Income_Share.min()]\n",
    "print('Lowest wealthy income share in 2009: ',\n",
    "      bottom_inc_share_2009.Country.iat[0], ' ',\n",
    "      bottom_inc_share_2009.Wealthy_Income_Share.iat[0], '%')\n",
    "print(\" \")\n",
    "# -------------------------------------------\n",
    "#Country with highest wealthy income share in 2004\n",
    "top_inc_share_2004 = gdp_int_incshare_2004_df.loc[gdp_int_incshare_2004_df.Wealthy_Income_Share \n",
    "                                                  == gdp_int_incshare_2004_df.Wealthy_Income_Share.max()]\n",
    "print('Highest wealthy income share in 2004: ',\n",
    "      top_inc_share_2004.Country.iat[0], ' ',\n",
    "      top_inc_share_2004.Wealthy_Income_Share.iat[0], '%')\n",
    "\n",
    "#Country with lowest wealthy income share in 2004\n",
    "bottom_inc_share_2004 = gdp_int_incshare_2004_df.loc[gdp_int_incshare_2004_df.Wealthy_Income_Share \n",
    "                                                     == gdp_int_incshare_2004_df.Wealthy_Income_Share.min()]\n",
    "print('Lowest wealthy income share in 2004: ',\n",
    "      bottom_inc_share_2004.Country.iat[0], ' ',\n",
    "      bottom_inc_share_2004.Wealthy_Income_Share.iat[0], '%')"
   ]
  },
  {
   "cell_type": "code",
   "execution_count": null,
   "id": "9fe7e1d3",
   "metadata": {},
   "outputs": [],
   "source": [
    "print(\"Wealthy Income Share vs Internet Use\")\n",
    "incshare_vs_int_fg = sns.FacetGrid(df_3var_subset_3_years,col=\"Year\")\n",
    "incshare_vs_int_plot = incshare_vs_int_fg.map_dataframe(sns.scatterplot,x=\"Wealthy_Income_Share\",y=\"Internet_Users_Pct\")\n",
    "incshare_vs_int_plot.set_xlabels('Wealthy Income Share %')\n",
    "incshare_vs_int_plot.set_ylabels('Internet Users %')"
   ]
  },
  {
   "cell_type": "markdown",
   "id": "60ccf31d",
   "metadata": {},
   "source": [
    "Wealthy income share % appears to be weakly negatively correlated with internet users %. Countries with more widespread use of the internet appear to have less income inequality. This negative correlation seems to be less strong by 2014, when there are more countries with moderate internet use (40%-60%) that have a very high wealthy income share.\n",
    "\n",
    "**Next Step:** The x axis should be adjusted so that it starts at 0 instead of 20."
   ]
  },
  {
   "cell_type": "code",
   "execution_count": null,
   "id": "184a17ef",
   "metadata": {},
   "outputs": [],
   "source": [
    "print(\"Wealthy Income Share vs GDP Per Capita\")\n",
    "incshare_vs_gdp_fg = sns.FacetGrid(df_3var_subset_3_years,col=\"Year\")\n",
    "incshare_vs_gdp_plot = incshare_vs_gdp_fg.map_dataframe(sns.scatterplot,x=\"Wealthy_Income_Share\",y=\"GDP_Per_Capita\")\n",
    "incshare_vs_gdp_plot.set_xlabels('Wealthy Income Share %')\n",
    "incshare_vs_gdp_plot.set_ylabels('GDP Per Capita')"
   ]
  },
  {
   "cell_type": "markdown",
   "id": "35a1526d",
   "metadata": {},
   "source": [
    "Wealthy income share % appears to be weakly negatively correlated with GDP per capita. Countries with high income inequality (over 33% wealthy income share) all have low GDP per capita. Based on visual inspection of these scatter plots, it is not clear whether this negative correlation has significantly changed between 2004 and 2014.\n",
    "\n",
    "**Next Step:** The x axis should be adjusted so that it starts at 0 instead of 20."
   ]
  },
  {
   "cell_type": "code",
   "execution_count": null,
   "id": "e0ad9ee7",
   "metadata": {},
   "outputs": [],
   "source": [
    "print(\"Wealthy Income Share Histogram\")\n",
    "incshare_hist_fg = sns.FacetGrid(df_3var_subset_3_years,col=\"Year\")\n",
    "incshare_hist_plot = incshare_hist_fg.map_dataframe(sns.histplot,x=\"Wealthy_Income_Share\")\n",
    "incshare_hist_plot.set_xlabels('Wealthy Income Share %')\n",
    "incshare_hist_plot.set_ylabels('Count of Countries')"
   ]
  },
  {
   "cell_type": "markdown",
   "id": "bc777465",
   "metadata": {},
   "source": [
    "Wealthy income share appears to be unimodal in 2014, but not in 2004 or 2009.\n",
    "\n",
    "**Next Steps:** Adjust number of bins to validate observations. Also, the x axis should be adjusted so that it starts at 0 instead of 20."
   ]
  },
  {
   "cell_type": "code",
   "execution_count": null,
   "id": "32f9c28b",
   "metadata": {},
   "outputs": [],
   "source": [
    "#Find the top 5 countries for 2014 in terms of wealthy income share. Create a DataFrame to look at 10-year trends \n",
    "#(use 2004, 2009, 2014 to look at the 10-year trend) in wealthy income share for the 5 countries with the highest 2014 \n",
    "#wealthy income share.\n",
    "top_5_incshare_2014 = gdp_int_incshare_2014_df.sort_values(by = 'Wealthy_Income_Share', ascending = False).head(5)\n",
    "top_5_incshare = df_3var_subset_3_years.loc[df_3var_subset_3_years.Country.isin(list(top_5_incshare_2014.Country))]\n",
    "top_5_incshare"
   ]
  },
  {
   "cell_type": "code",
   "execution_count": null,
   "id": "163ebb91",
   "metadata": {},
   "outputs": [],
   "source": [
    "# Create dataframe to look at 10-year trend for the 5 countries for 2014 with the lowest wealthy income share.\n",
    "bottom_5_incshare_2014 = gdp_int_incshare_2014_df.sort_values(by = 'Wealthy_Income_Share', ascending = True).head(5)\n",
    "bottom_5_incshare = df_3var_subset_3_years.loc[df_3var_subset_3_years.Country.isin(list(bottom_5_incshare_2014.Country))]\n",
    "bottom_5_incshare"
   ]
  },
  {
   "cell_type": "code",
   "execution_count": null,
   "id": "7f3d87e7",
   "metadata": {},
   "outputs": [],
   "source": [
    "print(\"Top 5 Wealthy Income Share Countries\")\n",
    "top_5_incshare_fg = sns.FacetGrid(top_5_incshare,col=\"Country\")\n",
    "top_5_incshare_plot = top_5_incshare_fg.map_dataframe(sns.scatterplot,x=\"Year\",y=\"Wealthy_Income_Share\")\n",
    "top_5_incshare_plot.set_ylabels('Wealthy Income Share %')"
   ]
  },
  {
   "cell_type": "markdown",
   "id": "5bb8e61d",
   "metadata": {},
   "source": [
    "**Next Steps:** Adjust y axis to start at 0. Identify and analyze anything unusual in these results. "
   ]
  },
  {
   "cell_type": "code",
   "execution_count": null,
   "id": "7bb0253f",
   "metadata": {},
   "outputs": [],
   "source": [
    "top_5_incshare"
   ]
  },
  {
   "cell_type": "code",
   "execution_count": null,
   "id": "ee00ac9a",
   "metadata": {},
   "outputs": [],
   "source": [
    "print(\"Bottom 5 Wealthy Income Share Countries\")\n",
    "bottom_5_incshare_fg = sns.FacetGrid(bottom_5_incshare,col=\"Country\")\n",
    "bottom_5_incshare_plot = bottom_5_incshare_fg.map_dataframe(sns.lineplot,x=\"Year\",y=\"Wealthy_Income_Share\")\n",
    "bottom_5_incshare_plot.set_ylabels('Wealthy Income Share %')"
   ]
  },
  {
   "cell_type": "markdown",
   "id": "e57347b5",
   "metadata": {},
   "source": [
    "**Next Steps:** Adjust y axis to start at 0. Identify and analyze anything unusual in these results. "
   ]
  }
 ],
 "metadata": {
  "kernelspec": {
   "display_name": "Python 3 (ipykernel)",
   "language": "python",
   "name": "python3"
  },
  "language_info": {
   "codemirror_mode": {
    "name": "ipython",
    "version": 3
   },
   "file_extension": ".py",
   "mimetype": "text/x-python",
   "name": "python",
   "nbconvert_exporter": "python",
   "pygments_lexer": "ipython3",
   "version": "3.9.13"
  }
 },
 "nbformat": 4,
 "nbformat_minor": 5
}
